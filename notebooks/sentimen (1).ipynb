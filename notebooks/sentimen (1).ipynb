{
  "cells": [
    {
      "cell_type": "code",
      "execution_count": 52,
      "metadata": {
        "id": "6Y8B2PkvXXwa"
      },
      "outputs": [],
      "source": [
        "import pandas as pd\n",
        "import numpy as np\n",
        "import matplotlib.pyplot as plt\n",
        "import seaborn as sns\n",
        "import re\n",
        "import nltk\n",
        "from nltk.corpus import stopwords\n",
        "from nltk.stem import WordNetLemmatizer\n",
        "from sklearn.feature_extraction.text import TfidfVectorizer\n",
        "from nltk.tokenize import word_tokenize\n",
        "from sklearn.model_selection import train_test_split\n",
        "from sklearn.naive_bayes import MultinomialNB\n",
        "from sklearn.ensemble import RandomForestClassifier\n",
        "from sklearn.metrics import accuracy_score, classification_report, confusion_matrix\n",
        "from sklearn.linear_model import LogisticRegression\n",
        "import torch\n",
        "from transformers import BertTokenizer, BertForSequenceClassification\n",
        "import tensorflow as tf\n",
        "from tensorflow.keras import models, layers"
      ]
    },
    {
      "cell_type": "code",
      "execution_count": 53,
      "metadata": {
        "id": "ttjCjLuRVzIS"
      },
      "outputs": [],
      "source": [
        "data = pd.read_csv(r\"data\\output.csv\")"
      ]
    },
    {
      "cell_type": "code",
      "execution_count": 54,
      "metadata": {
        "colab": {
          "base_uri": "https://localhost:8080/",
          "height": 206
        },
        "id": "DKlCcn1MWIlU",
        "outputId": "9e5b3ad8-e763-4328-b384-255622d4fb17"
      },
      "outputs": [
        {
          "data": {
            "text/html": [
              "<div>\n",
              "<style scoped>\n",
              "    .dataframe tbody tr th:only-of-type {\n",
              "        vertical-align: middle;\n",
              "    }\n",
              "\n",
              "    .dataframe tbody tr th {\n",
              "        vertical-align: top;\n",
              "    }\n",
              "\n",
              "    .dataframe thead th {\n",
              "        text-align: right;\n",
              "    }\n",
              "</style>\n",
              "<table border=\"1\" class=\"dataframe\">\n",
              "  <thead>\n",
              "    <tr style=\"text-align: right;\">\n",
              "      <th></th>\n",
              "      <th>Unnamed: 0</th>\n",
              "      <th>text</th>\n",
              "      <th>sentiment</th>\n",
              "      <th>label</th>\n",
              "    </tr>\n",
              "  </thead>\n",
              "  <tbody>\n",
              "    <tr>\n",
              "      <th>0</th>\n",
              "      <td>0</td>\n",
              "      <td>module , ek program hoti hai , jismen ya to so...</td>\n",
              "      <td>neutral</td>\n",
              "      <td>1</td>\n",
              "    </tr>\n",
              "    <tr>\n",
              "      <th>1</th>\n",
              "      <td>1</td>\n",
              "      <td>aur hamne aume samood ke pas unke bhaee saleh ...</td>\n",
              "      <td>positive</td>\n",
              "      <td>2</td>\n",
              "    </tr>\n",
              "    <tr>\n",
              "      <th>2</th>\n",
              "      <td>2</td>\n",
              "      <td>aur jab unhen yad dilaya jata hai , to ve yad ...</td>\n",
              "      <td>neutral</td>\n",
              "      <td>1</td>\n",
              "    </tr>\n",
              "    <tr>\n",
              "      <th>3</th>\n",
              "      <td>3</td>\n",
              "      <td>tumhen २०११ ka ted prize mil gaya hai\\n</td>\n",
              "      <td>positive</td>\n",
              "      <td>2</td>\n",
              "    </tr>\n",
              "    <tr>\n",
              "      <th>4</th>\n",
              "      <td>4</td>\n",
              "      <td>unhonne bad science karne ke lie ye delhi univ...</td>\n",
              "      <td>neutral</td>\n",
              "      <td>1</td>\n",
              "    </tr>\n",
              "  </tbody>\n",
              "</table>\n",
              "</div>"
            ],
            "text/plain": [
              "   Unnamed: 0                                               text sentiment  \\\n",
              "0           0  module , ek program hoti hai , jismen ya to so...   neutral   \n",
              "1           1  aur hamne aume samood ke pas unke bhaee saleh ...  positive   \n",
              "2           2  aur jab unhen yad dilaya jata hai , to ve yad ...   neutral   \n",
              "3           3            tumhen २०११ ka ted prize mil gaya hai\\n  positive   \n",
              "4           4  unhonne bad science karne ke lie ye delhi univ...   neutral   \n",
              "\n",
              "   label  \n",
              "0      1  \n",
              "1      2  \n",
              "2      1  \n",
              "3      2  \n",
              "4      1  "
            ]
          },
          "execution_count": 54,
          "metadata": {},
          "output_type": "execute_result"
        }
      ],
      "source": [
        "data.head()"
      ]
    },
    {
      "cell_type": "code",
      "execution_count": 55,
      "metadata": {
        "id": "tYx8jfjRj0jI"
      },
      "outputs": [],
      "source": [
        "data = data.drop(columns=['Unnamed: 0'])"
      ]
    },
    {
      "cell_type": "code",
      "execution_count": 56,
      "metadata": {
        "colab": {
          "base_uri": "https://localhost:8080/"
        },
        "id": "vog-YFmHldUt",
        "outputId": "4562f0a2-6854-42eb-8362-e98cde4b6eba"
      },
      "outputs": [
        {
          "data": {
            "text/plain": [
              "(2766, 3)"
            ]
          },
          "execution_count": 56,
          "metadata": {},
          "output_type": "execute_result"
        }
      ],
      "source": [
        "data.shape"
      ]
    },
    {
      "cell_type": "code",
      "execution_count": 57,
      "metadata": {
        "colab": {
          "base_uri": "https://localhost:8080/",
          "height": 178
        },
        "id": "2eoJlrOCliSq",
        "outputId": "46091cbd-e602-4db1-c495-94647ebb9486"
      },
      "outputs": [
        {
          "data": {
            "text/plain": [
              "text         0\n",
              "sentiment    0\n",
              "label        0\n",
              "dtype: int64"
            ]
          },
          "execution_count": 57,
          "metadata": {},
          "output_type": "execute_result"
        }
      ],
      "source": [
        "data.isnull().sum()"
      ]
    },
    {
      "cell_type": "code",
      "execution_count": 58,
      "metadata": {
        "id": "xQmN4bM2liWB"
      },
      "outputs": [],
      "source": [
        "data.dropna(inplace=True)"
      ]
    },
    {
      "cell_type": "code",
      "execution_count": 59,
      "metadata": {
        "colab": {
          "base_uri": "https://localhost:8080/",
          "height": 178
        },
        "id": "hMdW9Ih6ldYZ",
        "outputId": "6bd35855-df46-4e63-8430-66dbc80b25ad"
      },
      "outputs": [
        {
          "data": {
            "text/plain": [
              "text         0\n",
              "sentiment    0\n",
              "label        0\n",
              "dtype: int64"
            ]
          },
          "execution_count": 59,
          "metadata": {},
          "output_type": "execute_result"
        }
      ],
      "source": [
        "data.isnull().sum()"
      ]
    },
    {
      "cell_type": "code",
      "execution_count": 60,
      "metadata": {
        "colab": {
          "base_uri": "https://localhost:8080/",
          "height": 210
        },
        "id": "BTWAEQQHlroA",
        "outputId": "10e5173e-f511-432f-ff85-26d071ec3ae3"
      },
      "outputs": [
        {
          "data": {
            "text/plain": [
              "label\n",
              "1    1234\n",
              "2     987\n",
              "0     545\n",
              "Name: count, dtype: int64"
            ]
          },
          "execution_count": 60,
          "metadata": {},
          "output_type": "execute_result"
        }
      ],
      "source": [
        "data['label'].value_counts()"
      ]
    },
    {
      "cell_type": "code",
      "execution_count": 61,
      "metadata": {
        "colab": {
          "base_uri": "https://localhost:8080/",
          "height": 210
        },
        "id": "MfmTgkW5eyFp",
        "outputId": "efe8ff96-2906-4865-999a-577006ea2082"
      },
      "outputs": [
        {
          "data": {
            "text/plain": [
              "sentiment\n",
              "neutral     1234\n",
              "positive     987\n",
              "negative     545\n",
              "Name: count, dtype: int64"
            ]
          },
          "execution_count": 61,
          "metadata": {},
          "output_type": "execute_result"
        }
      ],
      "source": [
        "data['sentiment'].value_counts()"
      ]
    },
    {
      "cell_type": "code",
      "execution_count": 62,
      "metadata": {
        "colab": {
          "base_uri": "https://localhost:8080/",
          "height": 589
        },
        "id": "MNnRNzu9lrqD",
        "outputId": "e2d390cb-860c-4119-80e7-9cf61d5b9fd8"
      },
      "outputs": [
        {
          "data": {
            "image/png": "[encoded data removed]",
            "text/plain": [
              "<Figure size 1000x600 with 1 Axes>"
            ]
          },
          "metadata": {},
          "output_type": "display_data"
        }
      ],
      "source": [
        "plt.figure(figsize=(10,6))\n",
        "data['sentiment'].value_counts().plot.bar()\n",
        "plt.show()"
      ]
    },
    {
      "cell_type": "code",
      "execution_count": 63,
      "metadata": {
        "colab": {
          "base_uri": "https://localhost:8080/"
        },
        "id": "dJuOv8Uhh4b6",
        "outputId": "fb74ebfc-99e6-4943-d9f8-50bd9f4052ea"
      },
      "outputs": [
        {
          "name": "stderr",
          "output_type": "stream",
          "text": [
            "[nltk_data] Downloading package punkt to\n",
            "[nltk_data]     C:\\Users\\admin\\AppData\\Roaming\\nltk_data...\n",
            "[nltk_data]   Package punkt is already up-to-date!\n",
            "[nltk_data] Downloading package stopwords to\n",
            "[nltk_data]     C:\\Users\\admin\\AppData\\Roaming\\nltk_data...\n",
            "[nltk_data]   Package stopwords is already up-to-date!\n",
            "[nltk_data] Downloading package wordnet to\n",
            "[nltk_data]     C:\\Users\\admin\\AppData\\Roaming\\nltk_data...\n",
            "[nltk_data]   Package wordnet is already up-to-date!\n"
          ]
        },
        {
          "data": {
            "text/plain": [
              "True"
            ]
          },
          "execution_count": 63,
          "metadata": {},
          "output_type": "execute_result"
        }
      ],
      "source": [
        "nltk.download('punkt')\n",
        "nltk.download('stopwords')\n",
        "nltk.download('wordnet')"
      ]
    },
    {
      "cell_type": "code",
      "execution_count": 64,
      "metadata": {
        "id": "b4VoM1tzmWG2"
      },
      "outputs": [],
      "source": [
        "def text_preprocess(text):\n",
        "    text = text.lower()\n",
        "    text = re.sub(r'[^a-zA-Z\\s]', '', text)\n",
        "    text = re.sub(r'\\s+', ' ', text).strip()\n",
        "    return ''.join(text)"
      ]
    },
    {
      "cell_type": "code",
      "execution_count": 65,
      "metadata": {
        "id": "CX0DPzMvmWKh"
      },
      "outputs": [],
      "source": [
        "data[\"cleaned_text\"] = data[\"text\"].apply(text_preprocess)"
      ]
    },
    {
      "cell_type": "code",
      "execution_count": 66,
      "metadata": {
        "colab": {
          "base_uri": "https://localhost:8080/",
          "height": 206
        },
        "id": "t5FO3vLGjDG-",
        "outputId": "c1fb530e-95df-4c16-9a61-c2222cd74d12"
      },
      "outputs": [
        {
          "data": {
            "text/html": [
              "<div>\n",
              "<style scoped>\n",
              "    .dataframe tbody tr th:only-of-type {\n",
              "        vertical-align: middle;\n",
              "    }\n",
              "\n",
              "    .dataframe tbody tr th {\n",
              "        vertical-align: top;\n",
              "    }\n",
              "\n",
              "    .dataframe thead th {\n",
              "        text-align: right;\n",
              "    }\n",
              "</style>\n",
              "<table border=\"1\" class=\"dataframe\">\n",
              "  <thead>\n",
              "    <tr style=\"text-align: right;\">\n",
              "      <th></th>\n",
              "      <th>text</th>\n",
              "      <th>sentiment</th>\n",
              "      <th>label</th>\n",
              "      <th>cleaned_text</th>\n",
              "    </tr>\n",
              "  </thead>\n",
              "  <tbody>\n",
              "    <tr>\n",
              "      <th>0</th>\n",
              "      <td>module , ek program hoti hai , jismen ya to so...</td>\n",
              "      <td>neutral</td>\n",
              "      <td>1</td>\n",
              "      <td>module ek program hoti hai jismen ya to source...</td>\n",
              "    </tr>\n",
              "    <tr>\n",
              "      <th>1</th>\n",
              "      <td>aur hamne aume samood ke pas unke bhaee saleh ...</td>\n",
              "      <td>positive</td>\n",
              "      <td>2</td>\n",
              "      <td>aur hamne aume samood ke pas unke bhaee saleh ...</td>\n",
              "    </tr>\n",
              "    <tr>\n",
              "      <th>2</th>\n",
              "      <td>aur jab unhen yad dilaya jata hai , to ve yad ...</td>\n",
              "      <td>neutral</td>\n",
              "      <td>1</td>\n",
              "      <td>aur jab unhen yad dilaya jata hai to ve yad na...</td>\n",
              "    </tr>\n",
              "    <tr>\n",
              "      <th>3</th>\n",
              "      <td>tumhen २०११ ka ted prize mil gaya hai\\n</td>\n",
              "      <td>positive</td>\n",
              "      <td>2</td>\n",
              "      <td>tumhen ka ted prize mil gaya hai</td>\n",
              "    </tr>\n",
              "    <tr>\n",
              "      <th>4</th>\n",
              "      <td>unhonne bad science karne ke lie ye delhi univ...</td>\n",
              "      <td>neutral</td>\n",
              "      <td>1</td>\n",
              "      <td>unhonne bad science karne ke lie ye delhi univ...</td>\n",
              "    </tr>\n",
              "  </tbody>\n",
              "</table>\n",
              "</div>"
            ],
            "text/plain": [
              "                                                text sentiment  label  \\\n",
              "0  module , ek program hoti hai , jismen ya to so...   neutral      1   \n",
              "1  aur hamne aume samood ke pas unke bhaee saleh ...  positive      2   \n",
              "2  aur jab unhen yad dilaya jata hai , to ve yad ...   neutral      1   \n",
              "3            tumhen २०११ ka ted prize mil gaya hai\\n  positive      2   \n",
              "4  unhonne bad science karne ke lie ye delhi univ...   neutral      1   \n",
              "\n",
              "                                        cleaned_text  \n",
              "0  module ek program hoti hai jismen ya to source...  \n",
              "1  aur hamne aume samood ke pas unke bhaee saleh ...  \n",
              "2  aur jab unhen yad dilaya jata hai to ve yad na...  \n",
              "3                   tumhen ka ted prize mil gaya hai  \n",
              "4  unhonne bad science karne ke lie ye delhi univ...  "
            ]
          },
          "execution_count": 66,
          "metadata": {},
          "output_type": "execute_result"
        }
      ],
      "source": [
        "data.head()"
      ]
    },
    {
      "cell_type": "code",
      "execution_count": 67,
      "metadata": {
        "colab": {
          "base_uri": "https://localhost:8080/",
          "height": 53
        },
        "id": "t8HlAmnLnf2c",
        "outputId": "73ba9740-68b7-4822-f78e-88bfdbf22390"
      },
      "outputs": [
        {
          "data": {
            "text/plain": [
              "'module , ek program hoti hai , jismen ya to source code ya machine language ke form men instructions nihit hote hain.\\n'"
            ]
          },
          "execution_count": 67,
          "metadata": {},
          "output_type": "execute_result"
        }
      ],
      "source": [
        "data[\"text\"][0]"
      ]
    },
    {
      "cell_type": "code",
      "execution_count": 161,
      "metadata": {
        "colab": {
          "base_uri": "https://localhost:8080/",
          "height": 35
        },
        "id": "Ousg7ZFEnf4g",
        "outputId": "7e281eb9-c0ea-4316-edaf-df76b946b994"
      },
      "outputs": [
        {
          "data": {
            "text/plain": [
              "'unhonne bad science karne ke lie ye delhi university ke kirorimal college chale ge jahan inhonne vijnjan graduate ki degree prapt ki'"
            ]
          },
          "execution_count": 161,
          "metadata": {},
          "output_type": "execute_result"
        }
      ],
      "source": [
        "data[\"cleaned_text\"][4]"
      ]
    },
    {
      "cell_type": "code",
      "execution_count": 69,
      "metadata": {
        "colab": {
          "base_uri": "https://localhost:8080/",
          "height": 206
        },
        "id": "4L6bKnl5oFyG",
        "outputId": "d873969a-a9df-401f-a875-40a942a83f42"
      },
      "outputs": [
        {
          "data": {
            "text/html": [
              "<div>\n",
              "<style scoped>\n",
              "    .dataframe tbody tr th:only-of-type {\n",
              "        vertical-align: middle;\n",
              "    }\n",
              "\n",
              "    .dataframe tbody tr th {\n",
              "        vertical-align: top;\n",
              "    }\n",
              "\n",
              "    .dataframe thead th {\n",
              "        text-align: right;\n",
              "    }\n",
              "</style>\n",
              "<table border=\"1\" class=\"dataframe\">\n",
              "  <thead>\n",
              "    <tr style=\"text-align: right;\">\n",
              "      <th></th>\n",
              "      <th>text</th>\n",
              "      <th>cleaned_text</th>\n",
              "    </tr>\n",
              "  </thead>\n",
              "  <tbody>\n",
              "    <tr>\n",
              "      <th>0</th>\n",
              "      <td>module , ek program hoti hai , jismen ya to so...</td>\n",
              "      <td>module ek program hoti hai jismen ya to source...</td>\n",
              "    </tr>\n",
              "    <tr>\n",
              "      <th>1</th>\n",
              "      <td>aur hamne aume samood ke pas unke bhaee saleh ...</td>\n",
              "      <td>aur hamne aume samood ke pas unke bhaee saleh ...</td>\n",
              "    </tr>\n",
              "    <tr>\n",
              "      <th>2</th>\n",
              "      <td>aur jab unhen yad dilaya jata hai , to ve yad ...</td>\n",
              "      <td>aur jab unhen yad dilaya jata hai to ve yad na...</td>\n",
              "    </tr>\n",
              "    <tr>\n",
              "      <th>3</th>\n",
              "      <td>tumhen २०११ ka ted prize mil gaya hai\\n</td>\n",
              "      <td>tumhen ka ted prize mil gaya hai</td>\n",
              "    </tr>\n",
              "    <tr>\n",
              "      <th>4</th>\n",
              "      <td>unhonne bad science karne ke lie ye delhi univ...</td>\n",
              "      <td>unhonne bad science karne ke lie ye delhi univ...</td>\n",
              "    </tr>\n",
              "  </tbody>\n",
              "</table>\n",
              "</div>"
            ],
            "text/plain": [
              "                                                text  \\\n",
              "0  module , ek program hoti hai , jismen ya to so...   \n",
              "1  aur hamne aume samood ke pas unke bhaee saleh ...   \n",
              "2  aur jab unhen yad dilaya jata hai , to ve yad ...   \n",
              "3            tumhen २०११ ka ted prize mil gaya hai\\n   \n",
              "4  unhonne bad science karne ke lie ye delhi univ...   \n",
              "\n",
              "                                        cleaned_text  \n",
              "0  module ek program hoti hai jismen ya to source...  \n",
              "1  aur hamne aume samood ke pas unke bhaee saleh ...  \n",
              "2  aur jab unhen yad dilaya jata hai to ve yad na...  \n",
              "3                   tumhen ka ted prize mil gaya hai  \n",
              "4  unhonne bad science karne ke lie ye delhi univ...  "
            ]
          },
          "execution_count": 69,
          "metadata": {},
          "output_type": "execute_result"
        }
      ],
      "source": [
        "data[[\"text\", \"cleaned_text\"]].head()"
      ]
    },
    {
      "cell_type": "code",
      "execution_count": 70,
      "metadata": {
        "id": "nCNwq6I1nf7_"
      },
      "outputs": [],
      "source": [
        "def text_processing(text):\n",
        "    lemmatizer = WordNetLemmatizer()\n",
        "    text = word_tokenize(text)\n",
        "    text = [word for word in text if word not in stopwords.words('english')]\n",
        "    lemmatized_tokens = [lemmatizer.lemmatize(word) for word in text]\n",
        "    return ' '.join(lemmatized_tokens)"
      ]
    },
    {
      "cell_type": "code",
      "execution_count": 71,
      "metadata": {
        "id": "RAXH8IcNu8Lw"
      },
      "outputs": [],
      "source": [
        "data[\"cleaned_text\"] = data[\"cleaned_text\"].apply(text_processing)"
      ]
    },
    {
      "cell_type": "code",
      "execution_count": 72,
      "metadata": {
        "colab": {
          "base_uri": "https://localhost:8080/",
          "height": 206
        },
        "id": "nf-nsn3yqcm2",
        "outputId": "6dc12486-dd2a-4dd1-b129-9b49552f75b9"
      },
      "outputs": [
        {
          "data": {
            "text/html": [
              "<div>\n",
              "<style scoped>\n",
              "    .dataframe tbody tr th:only-of-type {\n",
              "        vertical-align: middle;\n",
              "    }\n",
              "\n",
              "    .dataframe tbody tr th {\n",
              "        vertical-align: top;\n",
              "    }\n",
              "\n",
              "    .dataframe thead th {\n",
              "        text-align: right;\n",
              "    }\n",
              "</style>\n",
              "<table border=\"1\" class=\"dataframe\">\n",
              "  <thead>\n",
              "    <tr style=\"text-align: right;\">\n",
              "      <th></th>\n",
              "      <th>text</th>\n",
              "      <th>sentiment</th>\n",
              "      <th>label</th>\n",
              "      <th>cleaned_text</th>\n",
              "    </tr>\n",
              "  </thead>\n",
              "  <tbody>\n",
              "    <tr>\n",
              "      <th>0</th>\n",
              "      <td>module , ek program hoti hai , jismen ya to so...</td>\n",
              "      <td>neutral</td>\n",
              "      <td>1</td>\n",
              "      <td>module ek program hoti hai jismen ya source co...</td>\n",
              "    </tr>\n",
              "    <tr>\n",
              "      <th>1</th>\n",
              "      <td>aur hamne aume samood ke pas unke bhaee saleh ...</td>\n",
              "      <td>positive</td>\n",
              "      <td>2</td>\n",
              "      <td>aur hamne aume samood ke pa unke bhaee saleh k...</td>\n",
              "    </tr>\n",
              "    <tr>\n",
              "      <th>2</th>\n",
              "      <td>aur jab unhen yad dilaya jata hai , to ve yad ...</td>\n",
              "      <td>neutral</td>\n",
              "      <td>1</td>\n",
              "      <td>aur jab unhen yad dilaya jata hai yad nahin karte</td>\n",
              "    </tr>\n",
              "    <tr>\n",
              "      <th>3</th>\n",
              "      <td>tumhen २०११ ka ted prize mil gaya hai\\n</td>\n",
              "      <td>positive</td>\n",
              "      <td>2</td>\n",
              "      <td>tumhen ka ted prize mil gaya hai</td>\n",
              "    </tr>\n",
              "    <tr>\n",
              "      <th>4</th>\n",
              "      <td>unhonne bad science karne ke lie ye delhi univ...</td>\n",
              "      <td>neutral</td>\n",
              "      <td>1</td>\n",
              "      <td>unhonne bad science karne ke lie ye delhi univ...</td>\n",
              "    </tr>\n",
              "  </tbody>\n",
              "</table>\n",
              "</div>"
            ],
            "text/plain": [
              "                                                text sentiment  label  \\\n",
              "0  module , ek program hoti hai , jismen ya to so...   neutral      1   \n",
              "1  aur hamne aume samood ke pas unke bhaee saleh ...  positive      2   \n",
              "2  aur jab unhen yad dilaya jata hai , to ve yad ...   neutral      1   \n",
              "3            tumhen २०११ ka ted prize mil gaya hai\\n  positive      2   \n",
              "4  unhonne bad science karne ke lie ye delhi univ...   neutral      1   \n",
              "\n",
              "                                        cleaned_text  \n",
              "0  module ek program hoti hai jismen ya source co...  \n",
              "1  aur hamne aume samood ke pa unke bhaee saleh k...  \n",
              "2  aur jab unhen yad dilaya jata hai yad nahin karte  \n",
              "3                   tumhen ka ted prize mil gaya hai  \n",
              "4  unhonne bad science karne ke lie ye delhi univ...  "
            ]
          },
          "execution_count": 72,
          "metadata": {},
          "output_type": "execute_result"
        }
      ],
      "source": [
        "data.head()"
      ]
    },
    {
      "cell_type": "code",
      "execution_count": 73,
      "metadata": {
        "colab": {
          "base_uri": "https://localhost:8080/"
        },
        "id": "RhY7EvxMwWXT",
        "outputId": "e28c2901-473c-438a-b758-88fc4b8402a2"
      },
      "outputs": [
        {
          "name": "stdout",
          "output_type": "stream",
          "text": [
            "Training set size: 2212\n",
            "Testing set size: 554\n"
          ]
        }
      ],
      "source": [
        "X = data['cleaned_text']\n",
        "y = data['label']\n",
        "\n",
        "X_train, X_test, y_train, y_test = train_test_split(X, y, test_size=0.2, random_state=42, stratify=y)\n",
        "\n",
        "print(\"Training set size:\", X_train.shape[0])\n",
        "print(\"Testing set size:\", X_test.shape[0])"
      ]
    },
    {
      "cell_type": "code",
      "execution_count": 74,
      "metadata": {
        "id": "wyLUBsAeqchG"
      },
      "outputs": [],
      "source": [
        "tfidf_vectorizer = TfidfVectorizer(max_features=5000, ngram_range=(1, 2))\n",
        "\n",
        "X_train_tfidf = tfidf_vectorizer.fit_transform(X_train).toarray()\n",
        "X_test_tfidf = tfidf_vectorizer.transform(X_test).toarray()"
      ]
    },
    {
      "cell_type": "code",
      "execution_count": 75,
      "metadata": {
        "colab": {
          "base_uri": "https://localhost:8080/"
        },
        "id": "FxblLyIdwxXb",
        "outputId": "9b6bb16b-c501-4d76-ba1a-b51d72ab5fa8"
      },
      "outputs": [
        {
          "data": {
            "text/plain": [
              "array([[0., 0., 0., ..., 0., 0., 0.],\n",
              "       [0., 0., 0., ..., 0., 0., 0.],\n",
              "       [0., 0., 0., ..., 0., 0., 0.],\n",
              "       ...,\n",
              "       [0., 0., 0., ..., 0., 0., 0.],\n",
              "       [0., 0., 0., ..., 0., 0., 0.],\n",
              "       [0., 0., 0., ..., 0., 0., 0.]])"
            ]
          },
          "execution_count": 75,
          "metadata": {},
          "output_type": "execute_result"
        }
      ],
      "source": [
        "X_train_tfidf"
      ]
    },
    {
      "cell_type": "code",
      "execution_count": 76,
      "metadata": {
        "colab": {
          "base_uri": "https://localhost:8080/"
        },
        "id": "MRUzBDNYxBSt",
        "outputId": "2f71f6bb-131b-4845-8ffd-d37672e28919"
      },
      "outputs": [
        {
          "data": {
            "text/plain": [
              "array([[0.        , 0.        , 0.        , ..., 0.        , 0.        ,\n",
              "        0.        ],\n",
              "       [0.        , 0.        , 0.        , ..., 0.        , 0.        ,\n",
              "        0.        ],\n",
              "       [0.        , 0.        , 0.        , ..., 0.        , 0.        ,\n",
              "        0.        ],\n",
              "       ...,\n",
              "       [0.        , 0.        , 0.        , ..., 0.        , 0.        ,\n",
              "        0.        ],\n",
              "       [0.        , 0.        , 0.        , ..., 0.        , 0.        ,\n",
              "        0.        ],\n",
              "       [0.32013864, 0.        , 0.        , ..., 0.        , 0.        ,\n",
              "        0.        ]])"
            ]
          },
          "execution_count": 76,
          "metadata": {},
          "output_type": "execute_result"
        }
      ],
      "source": [
        "X_test_tfidf"
      ]
    },
    {
      "cell_type": "code",
      "execution_count": 77,
      "metadata": {
        "colab": {
          "base_uri": "https://localhost:8080/"
        },
        "id": "qtZcpZrrqce2",
        "outputId": "2d77b947-136c-4339-e0ca-5b1021a12082"
      },
      "outputs": [
        {
          "name": "stdout",
          "output_type": "stream",
          "text": [
            "TF-IDF Feature matrix shape: (2212, 5000)\n"
          ]
        }
      ],
      "source": [
        "print(\"TF-IDF Feature matrix shape:\", X_train_tfidf.shape)"
      ]
    },
    {
      "cell_type": "code",
      "execution_count": 78,
      "metadata": {
        "colab": {
          "base_uri": "https://localhost:8080/",
          "height": 80
        },
        "id": "WvqDiZs7x_BO",
        "outputId": "3f829bf3-4d99-47f7-91dc-b5ba85e7202a"
      },
      "outputs": [
        {
          "data": {
            "text/html": [
              "<style>#sk-container-id-4 {color: black;}#sk-container-id-4 pre{padding: 0;}#sk-container-id-4 div.sk-toggleable {background-color: white;}#sk-container-id-4 label.sk-toggleable__label {cursor: pointer;display: block;width: 100%;margin-bottom: 0;padding: 0.3em;box-sizing: border-box;text-align: center;}#sk-container-id-4 label.sk-toggleable__label-arrow:before {content: \"▸\";float: left;margin-right: 0.25em;color: #696969;}#sk-container-id-4 label.sk-toggleable__label-arrow:hover:before {color: black;}#sk-container-id-4 div.sk-estimator:hover label.sk-toggleable__label-arrow:before {color: black;}#sk-container-id-4 div.sk-toggleable__content {max-height: 0;max-width: 0;overflow: hidden;text-align: left;background-color: #f0f8ff;}#sk-container-id-4 div.sk-toggleable__content pre {margin: 0.2em;color: black;border-radius: 0.25em;background-color: #f0f8ff;}#sk-container-id-4 input.sk-toggleable__control:checked~div.sk-toggleable__content {max-height: 200px;max-width: 100%;overflow: auto;}#sk-container-id-4 input.sk-toggleable__control:checked~label.sk-toggleable__label-arrow:before {content: \"▾\";}#sk-container-id-4 div.sk-estimator input.sk-toggleable__control:checked~label.sk-toggleable__label {background-color: #d4ebff;}#sk-container-id-4 div.sk-label input.sk-toggleable__control:checked~label.sk-toggleable__label {background-color: #d4ebff;}#sk-container-id-4 input.sk-hidden--visually {border: 0;clip: rect(1px 1px 1px 1px);clip: rect(1px, 1px, 1px, 1px);height: 1px;margin: -1px;overflow: hidden;padding: 0;position: absolute;width: 1px;}#sk-container-id-4 div.sk-estimator {font-family: monospace;background-color: #f0f8ff;border: 1px dotted black;border-radius: 0.25em;box-sizing: border-box;margin-bottom: 0.5em;}#sk-container-id-4 div.sk-estimator:hover {background-color: #d4ebff;}#sk-container-id-4 div.sk-parallel-item::after {content: \"\";width: 100%;border-bottom: 1px solid gray;flex-grow: 1;}#sk-container-id-4 div.sk-label:hover label.sk-toggleable__label {background-color: #d4ebff;}#sk-container-id-4 div.sk-serial::before {content: \"\";position: absolute;border-left: 1px solid gray;box-sizing: border-box;top: 0;bottom: 0;left: 50%;z-index: 0;}#sk-container-id-4 div.sk-serial {display: flex;flex-direction: column;align-items: center;background-color: white;padding-right: 0.2em;padding-left: 0.2em;position: relative;}#sk-container-id-4 div.sk-item {position: relative;z-index: 1;}#sk-container-id-4 div.sk-parallel {display: flex;align-items: stretch;justify-content: center;background-color: white;position: relative;}#sk-container-id-4 div.sk-item::before, #sk-container-id-4 div.sk-parallel-item::before {content: \"\";position: absolute;border-left: 1px solid gray;box-sizing: border-box;top: 0;bottom: 0;left: 50%;z-index: -1;}#sk-container-id-4 div.sk-parallel-item {display: flex;flex-direction: column;z-index: 1;position: relative;background-color: white;}#sk-container-id-4 div.sk-parallel-item:first-child::after {align-self: flex-end;width: 50%;}#sk-container-id-4 div.sk-parallel-item:last-child::after {align-self: flex-start;width: 50%;}#sk-container-id-4 div.sk-parallel-item:only-child::after {width: 0;}#sk-container-id-4 div.sk-dashed-wrapped {border: 1px dashed gray;margin: 0 0.4em 0.5em 0.4em;box-sizing: border-box;padding-bottom: 0.4em;background-color: white;}#sk-container-id-4 div.sk-label label {font-family: monospace;font-weight: bold;display: inline-block;line-height: 1.2em;}#sk-container-id-4 div.sk-label-container {text-align: center;}#sk-container-id-4 div.sk-container {/* jupyter's `normalize.less` sets `[hidden] { display: none; }` but bootstrap.min.css set `[hidden] { display: none !important; }` so we also need the `!important` here to be able to override the default hidden behavior on the sphinx rendered scikit-learn.org. See: https://github.com/scikit-learn/scikit-learn/issues/21755 */display: inline-block !important;position: relative;}#sk-container-id-4 div.sk-text-repr-fallback {display: none;}</style><div id=\"sk-container-id-4\" class=\"sk-top-container\"><div class=\"sk-text-repr-fallback\"><pre>LogisticRegression()</pre><b>In a Jupyter environment, please rerun this cell to show the HTML representation or trust the notebook. <br />On GitHub, the HTML representation is unable to render, please try loading this page with nbviewer.org.</b></div><div class=\"sk-container\" hidden><div class=\"sk-item\"><div class=\"sk-estimator sk-toggleable\"><input class=\"sk-toggleable__control sk-hidden--visually\" id=\"sk-estimator-id-4\" type=\"checkbox\" checked><label for=\"sk-estimator-id-4\" class=\"sk-toggleable__label sk-toggleable__label-arrow\">LogisticRegression</label><div class=\"sk-toggleable__content\"><pre>LogisticRegression()</pre></div></div></div></div></div>"
            ],
            "text/plain": [
              "LogisticRegression()"
            ]
          },
          "execution_count": 78,
          "metadata": {},
          "output_type": "execute_result"
        }
      ],
      "source": [
        "lr_model = LogisticRegression()\n",
        "lr_model.fit(X_train_tfidf, y_train)"
      ]
    },
    {
      "cell_type": "code",
      "execution_count": 79,
      "metadata": {
        "colab": {
          "base_uri": "https://localhost:8080/",
          "height": 80
        },
        "id": "ZlG26xfEx8L4",
        "outputId": "c7854f18-8676-4001-af39-626a3dcf6d72"
      },
      "outputs": [
        {
          "data": {
            "text/html": [
              "<style>#sk-container-id-5 {color: black;}#sk-container-id-5 pre{padding: 0;}#sk-container-id-5 div.sk-toggleable {background-color: white;}#sk-container-id-5 label.sk-toggleable__label {cursor: pointer;display: block;width: 100%;margin-bottom: 0;padding: 0.3em;box-sizing: border-box;text-align: center;}#sk-container-id-5 label.sk-toggleable__label-arrow:before {content: \"▸\";float: left;margin-right: 0.25em;color: #696969;}#sk-container-id-5 label.sk-toggleable__label-arrow:hover:before {color: black;}#sk-container-id-5 div.sk-estimator:hover label.sk-toggleable__label-arrow:before {color: black;}#sk-container-id-5 div.sk-toggleable__content {max-height: 0;max-width: 0;overflow: hidden;text-align: left;background-color: #f0f8ff;}#sk-container-id-5 div.sk-toggleable__content pre {margin: 0.2em;color: black;border-radius: 0.25em;background-color: #f0f8ff;}#sk-container-id-5 input.sk-toggleable__control:checked~div.sk-toggleable__content {max-height: 200px;max-width: 100%;overflow: auto;}#sk-container-id-5 input.sk-toggleable__control:checked~label.sk-toggleable__label-arrow:before {content: \"▾\";}#sk-container-id-5 div.sk-estimator input.sk-toggleable__control:checked~label.sk-toggleable__label {background-color: #d4ebff;}#sk-container-id-5 div.sk-label input.sk-toggleable__control:checked~label.sk-toggleable__label {background-color: #d4ebff;}#sk-container-id-5 input.sk-hidden--visually {border: 0;clip: rect(1px 1px 1px 1px);clip: rect(1px, 1px, 1px, 1px);height: 1px;margin: -1px;overflow: hidden;padding: 0;position: absolute;width: 1px;}#sk-container-id-5 div.sk-estimator {font-family: monospace;background-color: #f0f8ff;border: 1px dotted black;border-radius: 0.25em;box-sizing: border-box;margin-bottom: 0.5em;}#sk-container-id-5 div.sk-estimator:hover {background-color: #d4ebff;}#sk-container-id-5 div.sk-parallel-item::after {content: \"\";width: 100%;border-bottom: 1px solid gray;flex-grow: 1;}#sk-container-id-5 div.sk-label:hover label.sk-toggleable__label {background-color: #d4ebff;}#sk-container-id-5 div.sk-serial::before {content: \"\";position: absolute;border-left: 1px solid gray;box-sizing: border-box;top: 0;bottom: 0;left: 50%;z-index: 0;}#sk-container-id-5 div.sk-serial {display: flex;flex-direction: column;align-items: center;background-color: white;padding-right: 0.2em;padding-left: 0.2em;position: relative;}#sk-container-id-5 div.sk-item {position: relative;z-index: 1;}#sk-container-id-5 div.sk-parallel {display: flex;align-items: stretch;justify-content: center;background-color: white;position: relative;}#sk-container-id-5 div.sk-item::before, #sk-container-id-5 div.sk-parallel-item::before {content: \"\";position: absolute;border-left: 1px solid gray;box-sizing: border-box;top: 0;bottom: 0;left: 50%;z-index: -1;}#sk-container-id-5 div.sk-parallel-item {display: flex;flex-direction: column;z-index: 1;position: relative;background-color: white;}#sk-container-id-5 div.sk-parallel-item:first-child::after {align-self: flex-end;width: 50%;}#sk-container-id-5 div.sk-parallel-item:last-child::after {align-self: flex-start;width: 50%;}#sk-container-id-5 div.sk-parallel-item:only-child::after {width: 0;}#sk-container-id-5 div.sk-dashed-wrapped {border: 1px dashed gray;margin: 0 0.4em 0.5em 0.4em;box-sizing: border-box;padding-bottom: 0.4em;background-color: white;}#sk-container-id-5 div.sk-label label {font-family: monospace;font-weight: bold;display: inline-block;line-height: 1.2em;}#sk-container-id-5 div.sk-label-container {text-align: center;}#sk-container-id-5 div.sk-container {/* jupyter's `normalize.less` sets `[hidden] { display: none; }` but bootstrap.min.css set `[hidden] { display: none !important; }` so we also need the `!important` here to be able to override the default hidden behavior on the sphinx rendered scikit-learn.org. See: https://github.com/scikit-learn/scikit-learn/issues/21755 */display: inline-block !important;position: relative;}#sk-container-id-5 div.sk-text-repr-fallback {display: none;}</style><div id=\"sk-container-id-5\" class=\"sk-top-container\"><div class=\"sk-text-repr-fallback\"><pre>RandomForestClassifier(random_state=42)</pre><b>In a Jupyter environment, please rerun this cell to show the HTML representation or trust the notebook. <br />On GitHub, the HTML representation is unable to render, please try loading this page with nbviewer.org.</b></div><div class=\"sk-container\" hidden><div class=\"sk-item\"><div class=\"sk-estimator sk-toggleable\"><input class=\"sk-toggleable__control sk-hidden--visually\" id=\"sk-estimator-id-5\" type=\"checkbox\" checked><label for=\"sk-estimator-id-5\" class=\"sk-toggleable__label sk-toggleable__label-arrow\">RandomForestClassifier</label><div class=\"sk-toggleable__content\"><pre>RandomForestClassifier(random_state=42)</pre></div></div></div></div></div>"
            ],
            "text/plain": [
              "RandomForestClassifier(random_state=42)"
            ]
          },
          "execution_count": 79,
          "metadata": {},
          "output_type": "execute_result"
        }
      ],
      "source": [
        "rf_model = RandomForestClassifier(n_estimators=100, random_state=42)\n",
        "rf_model.fit(X_train_tfidf, y_train)"
      ]
    },
    {
      "cell_type": "code",
      "execution_count": 80,
      "metadata": {
        "colab": {
          "base_uri": "https://localhost:8080/",
          "height": 80
        },
        "id": "sALs807ax9Gp",
        "outputId": "cc7063f8-769a-400d-9fb5-b0ae1509e4da"
      },
      "outputs": [
        {
          "data": {
            "text/html": [
              "<style>#sk-container-id-6 {color: black;}#sk-container-id-6 pre{padding: 0;}#sk-container-id-6 div.sk-toggleable {background-color: white;}#sk-container-id-6 label.sk-toggleable__label {cursor: pointer;display: block;width: 100%;margin-bottom: 0;padding: 0.3em;box-sizing: border-box;text-align: center;}#sk-container-id-6 label.sk-toggleable__label-arrow:before {content: \"▸\";float: left;margin-right: 0.25em;color: #696969;}#sk-container-id-6 label.sk-toggleable__label-arrow:hover:before {color: black;}#sk-container-id-6 div.sk-estimator:hover label.sk-toggleable__label-arrow:before {color: black;}#sk-container-id-6 div.sk-toggleable__content {max-height: 0;max-width: 0;overflow: hidden;text-align: left;background-color: #f0f8ff;}#sk-container-id-6 div.sk-toggleable__content pre {margin: 0.2em;color: black;border-radius: 0.25em;background-color: #f0f8ff;}#sk-container-id-6 input.sk-toggleable__control:checked~div.sk-toggleable__content {max-height: 200px;max-width: 100%;overflow: auto;}#sk-container-id-6 input.sk-toggleable__control:checked~label.sk-toggleable__label-arrow:before {content: \"▾\";}#sk-container-id-6 div.sk-estimator input.sk-toggleable__control:checked~label.sk-toggleable__label {background-color: #d4ebff;}#sk-container-id-6 div.sk-label input.sk-toggleable__control:checked~label.sk-toggleable__label {background-color: #d4ebff;}#sk-container-id-6 input.sk-hidden--visually {border: 0;clip: rect(1px 1px 1px 1px);clip: rect(1px, 1px, 1px, 1px);height: 1px;margin: -1px;overflow: hidden;padding: 0;position: absolute;width: 1px;}#sk-container-id-6 div.sk-estimator {font-family: monospace;background-color: #f0f8ff;border: 1px dotted black;border-radius: 0.25em;box-sizing: border-box;margin-bottom: 0.5em;}#sk-container-id-6 div.sk-estimator:hover {background-color: #d4ebff;}#sk-container-id-6 div.sk-parallel-item::after {content: \"\";width: 100%;border-bottom: 1px solid gray;flex-grow: 1;}#sk-container-id-6 div.sk-label:hover label.sk-toggleable__label {background-color: #d4ebff;}#sk-container-id-6 div.sk-serial::before {content: \"\";position: absolute;border-left: 1px solid gray;box-sizing: border-box;top: 0;bottom: 0;left: 50%;z-index: 0;}#sk-container-id-6 div.sk-serial {display: flex;flex-direction: column;align-items: center;background-color: white;padding-right: 0.2em;padding-left: 0.2em;position: relative;}#sk-container-id-6 div.sk-item {position: relative;z-index: 1;}#sk-container-id-6 div.sk-parallel {display: flex;align-items: stretch;justify-content: center;background-color: white;position: relative;}#sk-container-id-6 div.sk-item::before, #sk-container-id-6 div.sk-parallel-item::before {content: \"\";position: absolute;border-left: 1px solid gray;box-sizing: border-box;top: 0;bottom: 0;left: 50%;z-index: -1;}#sk-container-id-6 div.sk-parallel-item {display: flex;flex-direction: column;z-index: 1;position: relative;background-color: white;}#sk-container-id-6 div.sk-parallel-item:first-child::after {align-self: flex-end;width: 50%;}#sk-container-id-6 div.sk-parallel-item:last-child::after {align-self: flex-start;width: 50%;}#sk-container-id-6 div.sk-parallel-item:only-child::after {width: 0;}#sk-container-id-6 div.sk-dashed-wrapped {border: 1px dashed gray;margin: 0 0.4em 0.5em 0.4em;box-sizing: border-box;padding-bottom: 0.4em;background-color: white;}#sk-container-id-6 div.sk-label label {font-family: monospace;font-weight: bold;display: inline-block;line-height: 1.2em;}#sk-container-id-6 div.sk-label-container {text-align: center;}#sk-container-id-6 div.sk-container {/* jupyter's `normalize.less` sets `[hidden] { display: none; }` but bootstrap.min.css set `[hidden] { display: none !important; }` so we also need the `!important` here to be able to override the default hidden behavior on the sphinx rendered scikit-learn.org. See: https://github.com/scikit-learn/scikit-learn/issues/21755 */display: inline-block !important;position: relative;}#sk-container-id-6 div.sk-text-repr-fallback {display: none;}</style><div id=\"sk-container-id-6\" class=\"sk-top-container\"><div class=\"sk-text-repr-fallback\"><pre>MultinomialNB()</pre><b>In a Jupyter environment, please rerun this cell to show the HTML representation or trust the notebook. <br />On GitHub, the HTML representation is unable to render, please try loading this page with nbviewer.org.</b></div><div class=\"sk-container\" hidden><div class=\"sk-item\"><div class=\"sk-estimator sk-toggleable\"><input class=\"sk-toggleable__control sk-hidden--visually\" id=\"sk-estimator-id-6\" type=\"checkbox\" checked><label for=\"sk-estimator-id-6\" class=\"sk-toggleable__label sk-toggleable__label-arrow\">MultinomialNB</label><div class=\"sk-toggleable__content\"><pre>MultinomialNB()</pre></div></div></div></div></div>"
            ],
            "text/plain": [
              "MultinomialNB()"
            ]
          },
          "execution_count": 80,
          "metadata": {},
          "output_type": "execute_result"
        }
      ],
      "source": [
        "multinom_model = MultinomialNB()\n",
        "multinom_model.fit(X_train_tfidf, y_train)"
      ]
    },
    {
      "cell_type": "code",
      "execution_count": 81,
      "metadata": {
        "colab": {
          "base_uri": "https://localhost:8080/"
        },
        "id": "6uB1zXLox9Ln",
        "outputId": "14593e0e-bdb9-47dc-ef65-3947dd9812d4"
      },
      "outputs": [
        {
          "name": "stdout",
          "output_type": "stream",
          "text": [
            "Logistic Regression Performance:\n",
            "              precision    recall  f1-score   support\n",
            "\n",
            "           0       0.65      0.29      0.41       109\n",
            "           1       0.69      0.85      0.76       247\n",
            "           2       0.64      0.65      0.64       198\n",
            "\n",
            "    accuracy                           0.67       554\n",
            "   macro avg       0.66      0.60      0.60       554\n",
            "weighted avg       0.66      0.67      0.65       554\n",
            "\n",
            "0.6660649819494585\n"
          ]
        }
      ],
      "source": [
        "y_pred_lr = lr_model.predict(X_test_tfidf)\n",
        "print(\"Logistic Regression Performance:\")\n",
        "print(classification_report(y_test, y_pred_lr))\n",
        "print(accuracy_score(y_test, y_pred_lr))"
      ]
    },
    {
      "cell_type": "code",
      "execution_count": 82,
      "metadata": {
        "colab": {
          "base_uri": "https://localhost:8080/"
        },
        "id": "XZ--jf2xx4Zp",
        "outputId": "872fdc68-999b-47a4-ad40-4cc293a66633"
      },
      "outputs": [
        {
          "name": "stdout",
          "output_type": "stream",
          "text": [
            "Random Forest Model Performance:\n",
            "\n",
            "              precision    recall  f1-score   support\n",
            "\n",
            "           0       0.90      0.56      0.69       109\n",
            "           1       0.68      0.95      0.79       247\n",
            "           2       0.85      0.61      0.71       198\n",
            "\n",
            "    accuracy                           0.75       554\n",
            "   macro avg       0.81      0.70      0.73       554\n",
            "weighted avg       0.78      0.75      0.74       554\n",
            "\n",
            "0.7490974729241877\n"
          ]
        }
      ],
      "source": [
        "y_pred_rf = rf_model.predict(X_test_tfidf)\n",
        "print(\"Random Forest Model Performance:\\n\")\n",
        "print(classification_report(y_test, y_pred_rf))\n",
        "print(accuracy_score(y_test, y_pred_rf))"
      ]
    },
    {
      "cell_type": "code",
      "execution_count": 83,
      "metadata": {
        "colab": {
          "base_uri": "https://localhost:8080/"
        },
        "id": "HHP8YlFnxZ54",
        "outputId": "c61e2198-b49c-4b09-fb3f-fb14c0a9bf2b"
      },
      "outputs": [
        {
          "name": "stdout",
          "output_type": "stream",
          "text": [
            "multinom_model Performance:\n",
            "\n",
            "              precision    recall  f1-score   support\n",
            "\n",
            "           0       1.00      0.08      0.15       109\n",
            "           1       0.61      0.87      0.71       247\n",
            "           2       0.61      0.59      0.60       198\n",
            "\n",
            "    accuracy                           0.61       554\n",
            "   macro avg       0.74      0.51      0.49       554\n",
            "weighted avg       0.68      0.61      0.56       554\n",
            "\n",
            "0.6137184115523465\n"
          ]
        }
      ],
      "source": [
        "y_pred_multi = multinom_model.predict(X_test_tfidf)\n",
        "print(\"multinom_model Performance:\\n\")\n",
        "print(classification_report(y_test, y_pred_multi))\n",
        "print(accuracy_score(y_test, y_pred_multi))"
      ]
    },
    {
      "cell_type": "code",
      "execution_count": 84,
      "metadata": {},
      "outputs": [],
      "source": [
        "model = models.Sequential()\n",
        "model.add(layers.Dense(32, activation='relu', input_shape=(X_train_tfidf.shape[1],)))\n",
        "model.add(layers.Dropout(0.5))\n",
        "model.add(layers.Dense(64, activation='relu'))\n",
        "model.add(layers.Dropout(0.5))\n",
        "model.add(layers.Dense(128, activation='relu'))\n",
        "model.add(layers.Dropout(0.5))\n",
        "model.add(layers.Dense(3, activation='softmax'))"
      ]
    },
    {
      "cell_type": "code",
      "execution_count": 85,
      "metadata": {},
      "outputs": [],
      "source": [
        "model.compile(optimizer='adam', loss='sparse_categorical_crossentropy', metrics=['accuracy'])"
      ]
    },
    {
      "cell_type": "code",
      "execution_count": 86,
      "metadata": {},
      "outputs": [
        {
          "name": "stdout",
          "output_type": "stream",
          "text": [
            "18/18 [==============================] - 0s 3ms/step - loss: 1.0963 - accuracy: 0.4404\n"
          ]
        }
      ],
      "source": [
        "test_loss, test_accuracy = model.evaluate(X_test_tfidf, y_test)"
      ]
    },
    {
      "cell_type": "code",
      "execution_count": 87,
      "metadata": {},
      "outputs": [
        {
          "name": "stdout",
          "output_type": "stream",
          "text": [
            "1.096323013305664 0.44043320417404175\n"
          ]
        }
      ],
      "source": [
        "print(test_loss, test_accuracy)"
      ]
    },
    {
      "cell_type": "code",
      "execution_count": 88,
      "metadata": {},
      "outputs": [
        {
          "name": "stdout",
          "output_type": "stream",
          "text": [
            "Epoch 1/20\n",
            "70/70 [==============================] - 2s 11ms/step - loss: 1.0565 - accuracy: 0.4426 - val_loss: 1.0365 - val_accuracy: 0.4458\n",
            "Epoch 2/20\n",
            "70/70 [==============================] - 1s 7ms/step - loss: 1.0166 - accuracy: 0.4458 - val_loss: 0.9964 - val_accuracy: 0.4458\n",
            "Epoch 3/20\n",
            "70/70 [==============================] - 0s 7ms/step - loss: 0.8888 - accuracy: 0.5475 - val_loss: 0.8632 - val_accuracy: 0.5993\n",
            "Epoch 4/20\n",
            "70/70 [==============================] - 1s 8ms/step - loss: 0.6336 - accuracy: 0.7328 - val_loss: 0.7496 - val_accuracy: 0.7112\n",
            "Epoch 5/20\n",
            "70/70 [==============================] - 1s 8ms/step - loss: 0.4102 - accuracy: 0.8576 - val_loss: 0.7514 - val_accuracy: 0.7274\n",
            "Epoch 6/20\n",
            "70/70 [==============================] - 1s 9ms/step - loss: 0.2759 - accuracy: 0.9024 - val_loss: 0.7937 - val_accuracy: 0.7310\n",
            "Epoch 7/20\n",
            "70/70 [==============================] - 1s 8ms/step - loss: 0.1833 - accuracy: 0.9476 - val_loss: 0.8861 - val_accuracy: 0.7581\n",
            "Epoch 8/20\n",
            "70/70 [==============================] - 1s 7ms/step - loss: 0.1378 - accuracy: 0.9593 - val_loss: 0.9174 - val_accuracy: 0.7455\n",
            "Epoch 9/20\n",
            "70/70 [==============================] - 1s 9ms/step - loss: 0.1115 - accuracy: 0.9652 - val_loss: 1.0073 - val_accuracy: 0.7509\n",
            "Epoch 10/20\n",
            "70/70 [==============================] - 1s 8ms/step - loss: 0.0850 - accuracy: 0.9756 - val_loss: 1.0600 - val_accuracy: 0.7617\n",
            "Epoch 11/20\n",
            "70/70 [==============================] - 1s 8ms/step - loss: 0.0703 - accuracy: 0.9792 - val_loss: 1.1755 - val_accuracy: 0.7690\n",
            "Epoch 12/20\n",
            "70/70 [==============================] - 1s 8ms/step - loss: 0.0693 - accuracy: 0.9810 - val_loss: 1.1521 - val_accuracy: 0.7690\n",
            "Epoch 13/20\n",
            "70/70 [==============================] - 1s 9ms/step - loss: 0.0608 - accuracy: 0.9851 - val_loss: 1.1792 - val_accuracy: 0.7581\n",
            "Epoch 14/20\n",
            "70/70 [==============================] - 1s 7ms/step - loss: 0.0508 - accuracy: 0.9855 - val_loss: 1.2556 - val_accuracy: 0.7653\n",
            "Epoch 15/20\n",
            "70/70 [==============================] - 0s 6ms/step - loss: 0.0462 - accuracy: 0.9855 - val_loss: 1.3202 - val_accuracy: 0.7653\n",
            "Epoch 16/20\n",
            "70/70 [==============================] - 1s 8ms/step - loss: 0.0410 - accuracy: 0.9878 - val_loss: 1.3890 - val_accuracy: 0.7599\n",
            "Epoch 17/20\n",
            "70/70 [==============================] - 0s 6ms/step - loss: 0.0411 - accuracy: 0.9869 - val_loss: 1.3750 - val_accuracy: 0.7509\n",
            "Epoch 18/20\n",
            "70/70 [==============================] - 1s 8ms/step - loss: 0.0339 - accuracy: 0.9914 - val_loss: 1.4095 - val_accuracy: 0.7599\n",
            "Epoch 19/20\n",
            "70/70 [==============================] - 1s 8ms/step - loss: 0.0323 - accuracy: 0.9892 - val_loss: 1.4728 - val_accuracy: 0.7563\n",
            "Epoch 20/20\n",
            "70/70 [==============================] - 0s 7ms/step - loss: 0.0302 - accuracy: 0.9887 - val_loss: 1.4792 - val_accuracy: 0.7563\n"
          ]
        },
        {
          "data": {
            "text/plain": [
              "<keras.src.callbacks.History at 0x2921154b520>"
            ]
          },
          "execution_count": 88,
          "metadata": {},
          "output_type": "execute_result"
        }
      ],
      "source": [
        "model.fit(X_train_tfidf, y_train, epochs=20, batch_size=32, validation_split=0.2, validation_data=(X_test_tfidf, y_test))"
      ]
    },
    {
      "cell_type": "code",
      "execution_count": 89,
      "metadata": {},
      "outputs": [
        {
          "name": "stdout",
          "output_type": "stream",
          "text": [
            "Model: \"sequential_1\"\n",
            "_________________________________________________________________\n",
            " Layer (type)                Output Shape              Param #   \n",
            "=================================================================\n",
            " dense_4 (Dense)             (None, 32)                160032    \n",
            "                                                                 \n",
            " dropout_3 (Dropout)         (None, 32)                0         \n",
            "                                                                 \n",
            " dense_5 (Dense)             (None, 64)                2112      \n",
            "                                                                 \n",
            " dropout_4 (Dropout)         (None, 64)                0         \n",
            "                                                                 \n",
            " dense_6 (Dense)             (None, 128)               8320      \n",
            "                                                                 \n",
            " dropout_5 (Dropout)         (None, 128)               0         \n",
            "                                                                 \n",
            " dense_7 (Dense)             (None, 3)                 387       \n",
            "                                                                 \n",
            "=================================================================\n",
            "Total params: 170851 (667.39 KB)\n",
            "Trainable params: 170851 (667.39 KB)\n",
            "Non-trainable params: 0 (0.00 Byte)\n",
            "_________________________________________________________________\n"
          ]
        }
      ],
      "source": [
        "model.summary()"
      ]
    },
    {
      "cell_type": "code",
      "execution_count": 90,
      "metadata": {
        "colab": {
          "base_uri": "https://localhost:8080/"
        },
        "id": "0AQSarBq127F",
        "outputId": "5c3663f8-ad71-455a-e95d-bd254589de35"
      },
      "outputs": [
        {
          "name": "stdout",
          "output_type": "stream",
          "text": [
            "pratyek jiv taste of death chakhnevala hai, aur tumhen to iyamat ke din poora-poora badla de diya jaega. ata jise aag jahannam se hatakar jannat men dail kar diya gaya, vah saphal raha. raha sansarik jivan, to vah maya-samagri ke siva kuchh bhi nahin\n",
            "\n"
          ]
        }
      ],
      "source": [
        "print(data[\"text\"][26])"
      ]
    },
    {
      "cell_type": "code",
      "execution_count": 174,
      "metadata": {},
      "outputs": [
        {
          "data": {
            "text/html": [
              "<div>\n",
              "<style scoped>\n",
              "    .dataframe tbody tr th:only-of-type {\n",
              "        vertical-align: middle;\n",
              "    }\n",
              "\n",
              "    .dataframe tbody tr th {\n",
              "        vertical-align: top;\n",
              "    }\n",
              "\n",
              "    .dataframe thead th {\n",
              "        text-align: right;\n",
              "    }\n",
              "</style>\n",
              "<table border=\"1\" class=\"dataframe\">\n",
              "  <thead>\n",
              "    <tr style=\"text-align: right;\">\n",
              "      <th></th>\n",
              "      <th>text</th>\n",
              "      <th>sentiment</th>\n",
              "      <th>label</th>\n",
              "      <th>cleaned_text</th>\n",
              "    </tr>\n",
              "  </thead>\n",
              "  <tbody>\n",
              "    <tr>\n",
              "      <th>8</th>\n",
              "      <td>aur dharti ko ek samatal desolate maidan banak...</td>\n",
              "      <td>negative</td>\n",
              "      <td>0</td>\n",
              "      <td>aur dharti ko ek samatal desolate maidan banak...</td>\n",
              "    </tr>\n",
              "    <tr>\n",
              "      <th>12</th>\n",
              "      <td>aapki refuse ko dekhne ke lie unhen permission...</td>\n",
              "      <td>negative</td>\n",
              "      <td>0</td>\n",
              "      <td>aapki refuse ko dekhne ke lie unhen permission...</td>\n",
              "    </tr>\n",
              "    <tr>\n",
              "      <th>20</th>\n",
              "      <td>continue rakhen lagoo kar raha hai ke sath res...</td>\n",
              "      <td>negative</td>\n",
              "      <td>0</td>\n",
              "      <td>continue rakhen lagoo kar raha hai ke sath res...</td>\n",
              "    </tr>\n",
              "    <tr>\n",
              "      <th>25</th>\n",
              "      <td>uski man lakari ke bane kukurmutte par koee ph...</td>\n",
              "      <td>negative</td>\n",
              "      <td>0</td>\n",
              "      <td>uski man lakari ke bane kukurmutte par koee ph...</td>\n",
              "    </tr>\n",
              "    <tr>\n",
              "      <th>26</th>\n",
              "      <td>pratyek jiv taste of death chakhnevala hai, au...</td>\n",
              "      <td>negative</td>\n",
              "      <td>0</td>\n",
              "      <td>pratyek jiv taste death chakhnevala hai aur tu...</td>\n",
              "    </tr>\n",
              "  </tbody>\n",
              "</table>\n",
              "</div>"
            ],
            "text/plain": [
              "                                                 text sentiment  label  \\\n",
              "8   aur dharti ko ek samatal desolate maidan banak...  negative      0   \n",
              "12  aapki refuse ko dekhne ke lie unhen permission...  negative      0   \n",
              "20  continue rakhen lagoo kar raha hai ke sath res...  negative      0   \n",
              "25  uski man lakari ke bane kukurmutte par koee ph...  negative      0   \n",
              "26  pratyek jiv taste of death chakhnevala hai, au...  negative      0   \n",
              "\n",
              "                                         cleaned_text  \n",
              "8   aur dharti ko ek samatal desolate maidan banak...  \n",
              "12  aapki refuse ko dekhne ke lie unhen permission...  \n",
              "20  continue rakhen lagoo kar raha hai ke sath res...  \n",
              "25  uski man lakari ke bane kukurmutte par koee ph...  \n",
              "26  pratyek jiv taste death chakhnevala hai aur tu...  "
            ]
          },
          "execution_count": 174,
          "metadata": {},
          "output_type": "execute_result"
        }
      ],
      "source": [
        "data[data[\"sentiment\"] == \"negative\"].head()"
      ]
    },
    {
      "cell_type": "code",
      "execution_count": 179,
      "metadata": {},
      "outputs": [
        {
          "data": {
            "text/plain": [
              "'continue rakhen lagoo kar raha hai ke sath resolved conflict'"
            ]
          },
          "execution_count": 179,
          "metadata": {},
          "output_type": "execute_result"
        }
      ],
      "source": [
        "data[\"cleaned_text\"][20]"
      ]
    },
    {
      "cell_type": "code",
      "execution_count": 180,
      "metadata": {
        "id": "REsVN4sCzJOP"
      },
      "outputs": [],
      "source": [
        "test_data_pos = \"continue rakhen lagoo kar raha hai ke sath resolved conflict\"\n",
        "test_data_neg = data[\"text\"][26]\n",
        "test_data_neu = data[\"text\"][4]"
      ]
    },
    {
      "cell_type": "code",
      "execution_count": 181,
      "metadata": {
        "id": "GUTTe7eRz98e"
      },
      "outputs": [],
      "source": [
        "test_pos_cleaned = text_preprocess(test_data_pos)\n",
        "# test_neg_cleaned = text_preprocess(test_data_neg)\n",
        "# test_neu_cleaned = text_preprocess(test_data_neu)\n",
        "\n",
        "# test_pos_processed = text_processing(test_pos_cleaned)\n",
        "# test_neg_processed = text_processing(test_neg_cleaned)\n",
        "# test_neu_processed = text_processing(test_neu_cleaned)\n",
        "\n",
        "# test_pos_array = tfidf_vectorizer.transform([test_pos_processed]).toarray()\n",
        "# test_neg_array = tfidf_vectorizer.transform([test_neg_processed]).toarray()\n",
        "# test_neu_array = tfidf_vectorizer.transform([test_neu_processed]).toarray()"
      ]
    },
    {
      "cell_type": "code",
      "execution_count": 182,
      "metadata": {
        "colab": {
          "base_uri": "https://localhost:8080/"
        },
        "id": "mpOoIDNO0V1H",
        "outputId": "2d6e81d9-d99b-48c9-89cb-83fde872ebd6"
      },
      "outputs": [
        {
          "data": {
            "text/plain": [
              "array([2], dtype=int64)"
            ]
          },
          "execution_count": 182,
          "metadata": {},
          "output_type": "execute_result"
        }
      ],
      "source": [
        "rf_model.predict(test_pos_array)"
      ]
    },
    {
      "cell_type": "code",
      "execution_count": 148,
      "metadata": {
        "colab": {
          "base_uri": "https://localhost:8080/"
        },
        "id": "q311TmUhxZ8l",
        "outputId": "3eba36a6-61d6-4bc4-be9e-babffdb50e5c"
      },
      "outputs": [
        {
          "name": "stderr",
          "output_type": "stream",
          "text": [
            "No model was supplied, defaulted to distilbert/distilbert-base-uncased-finetuned-sst-2-english and revision 714eb0f (https://huggingface.co/distilbert/distilbert-base-uncased-finetuned-sst-2-english).\n",
            "Using a pipeline without specifying a model name and revision in production is not recommended.\n"
          ]
        },
        {
          "name": "stdout",
          "output_type": "stream",
          "text": [
            "Text: A new store opened near the station; I might check it out sometime.\n",
            "Sentiment: NEGATIVE, Score: 0.5911409258842468\n",
            "\n"
          ]
        }
      ],
      "source": [
        "from transformers import pipeline\n",
        "\n",
        "sentiment_pipeline = pipeline(\"sentiment-analysis\")\n",
        "\n",
        "texts = [\n",
        "    \"A new store opened near the station; I might check it out sometime.\"]\n",
        "\n",
        "results = sentiment_pipeline(texts)\n",
        "for text, result in zip(texts, results):\n",
        "    print(f\"Text: {text}\\nSentiment: {result['label']}, Score: {result['score']}\\n\")\n"
      ]
    },
    {
      "cell_type": "code",
      "execution_count": 142,
      "metadata": {
        "colab": {
          "base_uri": "https://localhost:8080/"
        },
        "id": "sf1pjtC_7DjP",
        "outputId": "06d7b8e4-a507-47c2-b5e7-8d3fd7424f95"
      },
      "outputs": [
        {
          "name": "stderr",
          "output_type": "stream",
          "text": [
            "Some weights of BertForSequenceClassification were not initialized from the model checkpoint at bert-base-multilingual-uncased and are newly initialized: ['classifier.bias', 'classifier.weight']\n",
            "You should probably TRAIN this model on a down-stream task to be able to use it for predictions and inference.\n"
          ]
        },
        {
          "name": "stdout",
          "output_type": "stream",
          "text": [
            "Text: The weather is okay today, not too hot or cold.\n",
            "Predicted Sentiment: Neutral\n"
          ]
        }
      ],
      "source": [
        "tokenizerg = BertTokenizer.from_pretrained(\"bert-base-multilingual-uncased\")\n",
        "modelg = BertForSequenceClassification.from_pretrained(\"bert-base-multilingual-uncased\", num_labels=3)\n",
        "\n",
        "text = \"The weather is okay today, not too hot or cold.\"\n",
        "encoded_input = tokenizerg(text, return_tensors='pt')\n",
        "\n",
        "output = modelg(**encoded_input)\n",
        "\n",
        "logits = output.logits\n",
        "\n",
        "probabilities = torch.softmax(logits, dim=1)\n",
        "\n",
        "predicted_class = torch.argmax(probabilities, dim=1).item()\n",
        "\n",
        "sentiment_labels = {0: \"Negative\", 1: \"Neutral\", 2: \"Positive\"}\n",
        "\n",
        "predicted_sentiment = sentiment_labels[predicted_class]\n",
        "\n",
        "print(f\"Text: {text}\")\n",
        "print(f\"Predicted Sentiment: {predicted_sentiment}\")"
      ]
    },
    {
      "cell_type": "code",
      "execution_count": 96,
      "metadata": {
        "id": "VZzD-ZcY7DpI"
      },
      "outputs": [],
      "source": [
        "lr_cm = confusion_matrix(y_test, y_pred_lr)\n",
        "rf_cm = confusion_matrix(y_test, y_pred_rf)\n",
        "multi_cm = confusion_matrix(y_test, y_pred_multi)"
      ]
    },
    {
      "cell_type": "code",
      "execution_count": 97,
      "metadata": {
        "colab": {
          "base_uri": "https://localhost:8080/",
          "height": 564
        },
        "id": "--vBJggB2fpV",
        "outputId": "f596983e-b3ac-414d-8467-31a441913ff3"
      },
      "outputs": [
        {
          "data": {
            "image/png": "[encoded data removed]",
            "text/plain": [
              "<Figure size 1000x600 with 2 Axes>"
            ]
          },
          "metadata": {},
          "output_type": "display_data"
        }
      ],
      "source": [
        "plt.figure(figsize=(10, 6))\n",
        "sns.heatmap(lr_cm, annot=True, fmt='d', cmap='Blues')\n",
        "plt.title('Logistic Regression Confusion Matrix')\n",
        "plt.xlabel('Predicted Labels')\n",
        "plt.ylabel('True Labels')\n",
        "plt.show()"
      ]
    },
    {
      "cell_type": "code",
      "execution_count": 101,
      "metadata": {
        "id": "w2kGyXrU3vRU"
      },
      "outputs": [
        {
          "data": {
            "text/plain": [
              "['models/multi_model.joblib']"
            ]
          },
          "execution_count": 101,
          "metadata": {},
          "output_type": "execute_result"
        }
      ],
      "source": [
        "joblib.dump(lr_model, 'models/lr_model.joblib')\n",
        "joblib.dump(rf_model, 'models/rf_model.joblib')\n",
        "# joblib.dump(multinom_model,'models/multi_model.joblib')"
      ]
    }
  ],
  "metadata": {
    "colab": {
      "provenance": []
    },
    "kernelspec": {
      "display_name": "gputensor",
      "language": "python",
      "name": "python3"
    },
    "language_info": {
      "codemirror_mode": {
        "name": "ipython",
        "version": 3
      },
      "file_extension": ".py",
      "mimetype": "text/x-python",
      "name": "python",
      "nbconvert_exporter": "python",
      "pygments_lexer": "ipython3",
      "version": "3.8.19"
    }
  },
  "nbformat": 4,
  "nbformat_minor": 0
}
